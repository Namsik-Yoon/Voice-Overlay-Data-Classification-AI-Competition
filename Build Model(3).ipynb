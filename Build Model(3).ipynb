{
 "cells": [
  {
   "cell_type": "code",
   "execution_count": 18,
   "metadata": {},
   "outputs": [],
   "source": [
    "import os\n",
    "import librosa\n",
    "import librosa.display\n",
    "import IPython.display\n",
    "import matplotlib.pyplot as plt\n",
    "import pandas as pd\n",
    "import time\n",
    "import numpy as np\n",
    "%matplotlib inline"
   ]
  },
  {
   "cell_type": "code",
   "execution_count": 19,
   "metadata": {},
   "outputs": [],
   "source": [
    "import torch\n",
    "import torch.nn as nn\n",
    "import torch_optimizer as optim\n",
    "\n",
    "from torch.nn import functional as F\n",
    "from torch.utils.data import Dataset,DataLoader"
   ]
  },
  {
   "cell_type": "code",
   "execution_count": 20,
   "metadata": {},
   "outputs": [],
   "source": [
    "class MyDataset(Dataset):\n",
    "    def __init__(self,train=True):\n",
    "        self.train = train\n",
    "        self.root = 'aug_data2/'\n",
    "        if train:\n",
    "            self.wave_list = os.listdir(self.root+'train/')\n",
    "            self.train_targets = pd.read_csv('data/train_answer.csv').drop(['id'],axis=1).values\n",
    "        else:\n",
    "            self.wave_list = os.listdir(self.root+'test/')\n",
    "\n",
    "    def __getitem__(self,index):\n",
    "        if self.train:\n",
    "            x_root = self.wave_list[index]\n",
    "            target = self.train_targets[int(x_root.split('_')[0])]\n",
    "\n",
    "            x = torch.load(self.root+'train/'+x_root)\n",
    "            y = torch.tensor(target,dtype=torch.float32)\n",
    "            return x,y\n",
    "        else:\n",
    "            x_root = self.wave_list[index]\n",
    "            x = torch.load(self.root+'test/'+x_root)\n",
    "            return x\n",
    "            \n",
    "    def __len__(self):\n",
    "        return len(self.wave_list)"
   ]
  },
  {
   "cell_type": "code",
   "execution_count": 21,
   "metadata": {},
   "outputs": [],
   "source": [
    "dataset = MyDataset()\n",
    "\n",
    "train_ratio = 1.0\n",
    "train_size = int(len(dataset)*train_ratio)\n",
    "val_size = len(dataset)-train_size\n",
    "\n",
    "train_dataset,val_dataset = torch.utils.data.random_split(dataset,[train_size,val_size])\n",
    "\n",
    "batch_size = 2**8\n",
    "train_loader = DataLoader(train_dataset,batch_size=batch_size,shuffle=True)\n",
    "val_loader = DataLoader(dataset=train_dataset, batch_size=2**8)"
   ]
  },
  {
   "cell_type": "code",
   "execution_count": 22,
   "metadata": {},
   "outputs": [],
   "source": [
    "def conv3x3(in_channels, out_channels, stride=1):\n",
    "    return nn.Conv2d(in_channels, out_channels, kernel_size=3, \n",
    "                     stride=stride, padding=1, bias=False)\n",
    "\n",
    "# Residual block\n",
    "class ResidualBlock(nn.Module):\n",
    "    def __init__(self, in_channels, out_channels, stride=1, downsample=None):\n",
    "        super(ResidualBlock, self).__init__()\n",
    "        self.conv1 = conv3x3(in_channels, out_channels, stride)\n",
    "        self.bn1 = nn.BatchNorm2d(out_channels)\n",
    "        self.elu = nn.ELU(inplace=True)\n",
    "        self.conv2 = conv3x3(out_channels, out_channels)\n",
    "        self.bn2 = nn.BatchNorm2d(out_channels)\n",
    "        self.downsample = downsample\n",
    "        \n",
    "    def forward(self, x):\n",
    "        residual = x\n",
    "        out = self.conv1(x)\n",
    "        out = self.bn1(out)\n",
    "        out = self.elu(out)\n",
    "        out = self.conv2(out)\n",
    "        out = self.bn2(out)\n",
    "        if self.downsample:\n",
    "            residual = self.downsample(x)\n",
    "        out += residual\n",
    "        out = self.elu(out)\n",
    "        return out\n",
    "\n",
    "# ResNet\n",
    "class ResNet(nn.Module):\n",
    "    def __init__(self, block, layers, num_classes=10):\n",
    "        super(ResNet, self).__init__()\n",
    "        self.in_channels = 16\n",
    "        self.conv = conv3x3(4, 16)\n",
    "        self.bn = nn.BatchNorm2d(16)\n",
    "        self.elu = nn.ELU(inplace=True)\n",
    "        self.layer1 = self.make_layer(block, 16, layers[0])\n",
    "        self.layer2 = self.make_layer(block, 32, layers[0],2)\n",
    "        self.layer3 = self.make_layer(block, 32, layers[0],2)\n",
    "        self.avg_pool = nn.AvgPool2d(8)\n",
    "        self.fc = nn.Linear(22400, 30)\n",
    "        \n",
    "    def make_layer(self, block, out_channels, blocks, stride=1):\n",
    "        downsample = None\n",
    "        if (stride != 1) or (self.in_channels != out_channels):\n",
    "            downsample = nn.Sequential(\n",
    "                conv3x3(self.in_channels, out_channels, stride=stride),\n",
    "                nn.BatchNorm2d(out_channels))\n",
    "        layers = []\n",
    "        layers.append(block(self.in_channels, out_channels, stride, downsample))\n",
    "        self.in_channels = out_channels\n",
    "        for i in range(1, blocks):\n",
    "            layers.append(block(out_channels, out_channels))\n",
    "        return nn.Sequential(*layers)\n",
    "    \n",
    "    def forward(self, x):\n",
    "        x = x.permute(0, 3, 1, 2)\n",
    "        out = self.conv(x)\n",
    "        out = self.bn(out)\n",
    "        out = self.elu(out)\n",
    "        out = self.layer1(out)\n",
    "        out = self.layer2(out)\n",
    "        out = self.layer3(out)\n",
    "        out = out.reshape(out.size(0), -1)\n",
    "        out = F.softmax(self.fc(out))\n",
    "        return out"
   ]
  },
  {
   "cell_type": "code",
   "execution_count": 23,
   "metadata": {},
   "outputs": [
    {
     "name": "stdout",
     "output_type": "stream",
     "text": [
      "# of parameters =  807358\n"
     ]
    }
   ],
   "source": [
    "cuda_use = True\n",
    "resnet = ResNet(ResidualBlock, [3, 3, 3])\n",
    "print('# of parameters = ',sum(p.numel() for p in resnet.parameters()))\n",
    "\n",
    "if cuda_use and torch.cuda.is_available():\n",
    "    resnet.cuda()\n",
    "    \n",
    "optimizer = optim.DiffGrad(resnet.parameters(), lr=1e-3)"
   ]
  },
  {
   "cell_type": "code",
   "execution_count": 24,
   "metadata": {
    "scrolled": true
   },
   "outputs": [
    {
     "name": "stderr",
     "output_type": "stream",
     "text": [
      "/home/tactics/anaconda3/lib/python3.7/site-packages/ipykernel_launcher.py:65: UserWarning: Implicit dimension choice for softmax has been deprecated. Change the call to include dim=X as an argument.\n"
     ]
    },
    {
     "ename": "KeyboardInterrupt",
     "evalue": "",
     "output_type": "error",
     "traceback": [
      "\u001b[0;31m---------------------------------------------------------------------------\u001b[0m",
      "\u001b[0;31mKeyboardInterrupt\u001b[0m                         Traceback (most recent call last)",
      "\u001b[0;32m<ipython-input-24-6950da9e6579>\u001b[0m in \u001b[0;36m<module>\u001b[0;34m\u001b[0m\n\u001b[1;32m     19\u001b[0m         \u001b[0mtrain_loss\u001b[0m \u001b[0;34m=\u001b[0m \u001b[0mnn\u001b[0m\u001b[0;34m.\u001b[0m\u001b[0mKLDivLoss\u001b[0m\u001b[0;34m(\u001b[0m\u001b[0mreduction\u001b[0m\u001b[0;34m=\u001b[0m\u001b[0;34m'batchmean'\u001b[0m\u001b[0;34m)\u001b[0m\u001b[0;34m(\u001b[0m\u001b[0moutputs\u001b[0m\u001b[0;34m.\u001b[0m\u001b[0mlog\u001b[0m\u001b[0;34m(\u001b[0m\u001b[0;34m)\u001b[0m\u001b[0;34m,\u001b[0m\u001b[0mtargets\u001b[0m\u001b[0;34m)\u001b[0m\u001b[0;34m\u001b[0m\u001b[0;34m\u001b[0m\u001b[0m\n\u001b[1;32m     20\u001b[0m         \u001b[0mtrain_loss\u001b[0m\u001b[0;34m.\u001b[0m\u001b[0mbackward\u001b[0m\u001b[0;34m(\u001b[0m\u001b[0;34m)\u001b[0m\u001b[0;34m\u001b[0m\u001b[0;34m\u001b[0m\u001b[0m\n\u001b[0;32m---> 21\u001b[0;31m         \u001b[0moptimizer\u001b[0m\u001b[0;34m.\u001b[0m\u001b[0mstep\u001b[0m\u001b[0;34m(\u001b[0m\u001b[0;34m)\u001b[0m\u001b[0;34m\u001b[0m\u001b[0;34m\u001b[0m\u001b[0m\n\u001b[0m\u001b[1;32m     22\u001b[0m         \u001b[0mtrain_losses\u001b[0m\u001b[0;34m.\u001b[0m\u001b[0mappend\u001b[0m\u001b[0;34m(\u001b[0m\u001b[0mtrain_loss\u001b[0m\u001b[0;34m.\u001b[0m\u001b[0mdetach\u001b[0m\u001b[0;34m(\u001b[0m\u001b[0;34m)\u001b[0m\u001b[0;34m)\u001b[0m\u001b[0;34m\u001b[0m\u001b[0;34m\u001b[0m\u001b[0m\n\u001b[1;32m     23\u001b[0m \u001b[0;34m\u001b[0m\u001b[0m\n",
      "\u001b[0;32m~/anaconda3/lib/python3.7/site-packages/torch_optimizer/diffgrad.py\u001b[0m in \u001b[0;36mstep\u001b[0;34m(self, closure)\u001b[0m\n\u001b[1;32m    122\u001b[0m \u001b[0;34m\u001b[0m\u001b[0m\n\u001b[1;32m    123\u001b[0m                 \u001b[0;31m# compute diffgrad coefficient (dfc)\u001b[0m\u001b[0;34m\u001b[0m\u001b[0;34m\u001b[0m\u001b[0;34m\u001b[0m\u001b[0m\n\u001b[0;32m--> 124\u001b[0;31m                 \u001b[0mdiff\u001b[0m \u001b[0;34m=\u001b[0m \u001b[0mtorch\u001b[0m\u001b[0;34m.\u001b[0m\u001b[0mabs\u001b[0m\u001b[0;34m(\u001b[0m\u001b[0mprevious_grad\u001b[0m \u001b[0;34m-\u001b[0m \u001b[0mgrad\u001b[0m\u001b[0;34m)\u001b[0m\u001b[0;34m\u001b[0m\u001b[0;34m\u001b[0m\u001b[0m\n\u001b[0m\u001b[1;32m    125\u001b[0m                 \u001b[0mdfc\u001b[0m \u001b[0;34m=\u001b[0m \u001b[0mtorch\u001b[0m\u001b[0;34m.\u001b[0m\u001b[0mdiv\u001b[0m\u001b[0;34m(\u001b[0m\u001b[0;36m1.0\u001b[0m\u001b[0;34m,\u001b[0m \u001b[0;34m(\u001b[0m\u001b[0;36m1.0\u001b[0m \u001b[0;34m+\u001b[0m \u001b[0mtorch\u001b[0m\u001b[0;34m.\u001b[0m\u001b[0mexp\u001b[0m\u001b[0;34m(\u001b[0m\u001b[0;34m-\u001b[0m\u001b[0mdiff\u001b[0m\u001b[0;34m)\u001b[0m\u001b[0;34m)\u001b[0m\u001b[0;34m)\u001b[0m\u001b[0;34m\u001b[0m\u001b[0;34m\u001b[0m\u001b[0m\n\u001b[1;32m    126\u001b[0m                 \u001b[0mstate\u001b[0m\u001b[0;34m[\u001b[0m\u001b[0;34m'previous_grad'\u001b[0m\u001b[0;34m]\u001b[0m \u001b[0;34m=\u001b[0m \u001b[0mgrad\u001b[0m\u001b[0;34m.\u001b[0m\u001b[0mclone\u001b[0m\u001b[0;34m(\u001b[0m\u001b[0;34m)\u001b[0m\u001b[0;34m\u001b[0m\u001b[0;34m\u001b[0m\u001b[0m\n",
      "\u001b[0;31mKeyboardInterrupt\u001b[0m: "
     ]
    }
   ],
   "source": [
    "# plot_list = {'train':[],'val':[]}\n",
    "# time_list = [time.time()]\n",
    "resnet.load_state_dict(torch.load('resnet4c_state_dict.pth'))\n",
    "for epoch in range(current_epoch,200):\n",
    "    \n",
    "    \"\"\"\n",
    "    학습 및 검증\n",
    "    \"\"\"\n",
    "    resnet.train()\n",
    "    train_losses = []\n",
    "    for i, data in enumerate(train_loader):\n",
    "        # get the inputs; data is a list of [inputs, labels]\n",
    "        inputs, targets = data\n",
    "        inputs, targets = inputs.cuda(),targets.cuda()\n",
    "        # zero the parameter gradients\n",
    "        optimizer.zero_grad()\n",
    "        # forward + backward + optimize\n",
    "        outputs = resnet(inputs)\n",
    "        train_loss = nn.KLDivLoss(reduction='batchmean')(outputs.log(),targets)\n",
    "        train_loss.backward()\n",
    "        optimizer.step()\n",
    "        train_losses.append(train_loss.detach())\n",
    "\n",
    "        del inputs\n",
    "        del targets\n",
    "        del outputs\n",
    "        del train_loss\n",
    "        \n",
    "#     resnet.eval()\n",
    "#     val_losses = []\n",
    "#     for data in val_loader:\n",
    "#         inputs, targets = data\n",
    "#         inputs, targets = inputs.cuda(),targets.cuda()\n",
    "\n",
    "#         outputs = resnet(inputs)\n",
    "#         val_loss = nn.KLDivLoss(reduction='batchmean')(outputs.log(),targets)\n",
    "#         val_losses.append(val_loss.detach())\n",
    "        \n",
    "#         del inputs\n",
    "#         del targets\n",
    "#         del outputs\n",
    "    \n",
    "\n",
    "    time_list.append(time.time())\n",
    "    print(f\"{epoch+1} time = {(time_list[-1]-time_list[-2])/60} minutes\")\n",
    "    print(f\"{epoch+1} epoch train loss = {sum(train_losses)/len(train_losses)}\")\n",
    "#     print(f\"{epoch+1} epoch val loss = {sum(val_losses)/len(val_losses)}\")\n",
    "    print('--------------------------------------------------')\n",
    "    plot_list['train'].append(sum(train_losses)/len(train_losses))\n",
    "#     plot_list['val'].append(sum(val_losses)/len(val_losses))\n",
    "    \n",
    "    \"\"\"\n",
    "    early stopping\n",
    "    patience=10\n",
    "    \"\"\"\n",
    "    \n",
    "    current_val_loss = sum(val_losses)/len(val_losses)\n",
    "    min_val_loss = min(plot_list['val'])\n",
    "    patience = 10\n",
    "    \n",
    "    if current_val_loss <= min_val_loss:\n",
    "        min_loss_model = resnet\n",
    "        current_patience = 0\n",
    "    else:\n",
    "        current_patience+=1\n",
    "        if current_patience == patience:\n",
    "            resnet = min_loss_model\n",
    "            torch.save(resnet.state_dict(), 'resnet4c_state_dict.pth')\n",
    "            break\n",
    "print('Finished Training')"
   ]
  },
  {
   "cell_type": "code",
   "execution_count": 9,
   "metadata": {
    "scrolled": true
   },
   "outputs": [
    {
     "data": {
      "image/png": "[encoded data removed]",
      "text/plain": [
       "<Figure size 432x288 with 1 Axes>"
      ]
     },
     "metadata": {
      "needs_background": "light"
     },
     "output_type": "display_data"
    }
   ],
   "source": [
    "plt.plot(plot_list['train'],label='train')\n",
    "plt.plot(plot_list['val'],label='val')\n",
    "plt.legend()\n",
    "plt.show()"
   ]
  },
  {
   "cell_type": "code",
   "execution_count": 10,
   "metadata": {},
   "outputs": [],
   "source": [
    "resnet.cpu()\n",
    "submission = pd.read_csv('data/submission.csv', index_col=0)\n",
    "test_dataset = MyDataset(train=False)\n",
    "test_loader = DataLoader(test_dataset,batch_size=1)"
   ]
  },
  {
   "cell_type": "code",
   "execution_count": 11,
   "metadata": {},
   "outputs": [
    {
     "name": "stderr",
     "output_type": "stream",
     "text": [
      "/home/tactics/anaconda3/lib/python3.7/site-packages/ipykernel_launcher.py:65: UserWarning: Implicit dimension choice for softmax has been deprecated. Change the call to include dim=X as an argument.\n"
     ]
    }
   ],
   "source": [
    "for i,x in zip(test_dataset.wave_list,test_dataset):\n",
    "    submission.loc[int(i.split('.')[0])] = resnet(x.unsqueeze(0)).tolist()[0]"
   ]
  },
  {
   "cell_type": "code",
   "execution_count": 12,
   "metadata": {},
   "outputs": [],
   "source": [
    "submission.to_csv('resnet_6.csv')"
   ]
  },
  {
   "cell_type": "code",
   "execution_count": null,
   "metadata": {},
   "outputs": [],
   "source": []
  }
 ],
 "metadata": {
  "kernelspec": {
   "display_name": "Python 3",
   "language": "python",
   "name": "python3"
  }
 },
 "nbformat": 4,
 "nbformat_minor": 4
}
