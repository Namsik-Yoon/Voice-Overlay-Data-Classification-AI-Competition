{
 "cells": [
  {
   "cell_type": "code",
   "execution_count": 1,
   "metadata": {},
   "outputs": [],
   "source": [
    "import requests\n",
    "\n",
    "import os\n",
    "import os.path as pth\n",
    "\n",
    "from multiprocessing import Pool\n",
    "from functools import partial\n",
    "\n",
    "from tqdm.notebook import tqdm\n",
    "\n",
    "import zipfile"
   ]
  },
  {
   "cell_type": "code",
   "execution_count": 2,
   "metadata": {},
   "outputs": [],
   "source": [
    "def download_file_from_google_drive(id_, destination):\n",
    "    URL = \"https://docs.google.com/uc?export=download\"\n",
    "\n",
    "    session = requests.Session()\n",
    "    response = session.get(URL, params = { 'id' : id_ }, stream = True)\n",
    "    token = get_confirm_token(response)\n",
    "    if token:\n",
    "        params = { 'id' : id_, 'confirm' : token }\n",
    "        response = session.get(URL, params = params, stream = True)\n",
    "        \n",
    "    basename = response.headers['Content-Disposition'].split(';')[1].split('filename=')[1].replace('\\\"', '')\n",
    "    full_dst_filenname = pth.join(destination, basename)\n",
    "    save_response_content(response, full_dst_filenname)\n",
    "    return full_dst_filenname\n",
    "\n",
    "def get_confirm_token(response):\n",
    "    for key, value in response.cookies.items():\n",
    "        if key.startswith('download_warning'):\n",
    "            return value\n",
    "\n",
    "    return None\n",
    "\n",
    "def save_response_content(response, destination):\n",
    "    CHUNK_SIZE = 32768\n",
    "    with open(destination, \"wb\") as f:\n",
    "        for chunk in response.iter_content(CHUNK_SIZE):\n",
    "            if chunk: # filter out keep-alive new chunks\n",
    "                f.write(chunk)"
   ]
  },
  {
   "cell_type": "code",
   "execution_count": 3,
   "metadata": {},
   "outputs": [],
   "source": [
    "file_id_list = [\n",
    "    '1teoTI59iNyk5zEIpYA6zvzkVfhxSaN5O',\n",
    "    '1DwENW_2csGmZ74vuKAJKuSGwSw0ONHG9',\n",
    "    '1S9XCeRbvfO0wNnVXyO3-3AuIm-ukSX6Q',\n",
    "    '1FCoMm9E5uoE01-YMfndLYoPNnJrapsth',\n",
    "]"
   ]
  },
  {
   "cell_type": "code",
   "execution_count": 4,
   "metadata": {},
   "outputs": [
    {
     "data": {
      "application/vnd.jupyter.widget-view+json": {
       "model_id": "d083028ada62414dabef3324728fdf68",
       "version_major": 2,
       "version_minor": 0
      },
      "text/plain": [
       "HBox(children=(FloatProgress(value=0.0, max=4.0), HTML(value='')))"
      ]
     },
     "metadata": {},
     "output_type": "display_data"
    },
    {
     "name": "stdout",
     "output_type": "stream",
     "text": [
      "data/submission.csv is done!\n",
      "data/train_answer.csv is done!\n",
      "data/test.zip is done!\n",
      "data/train.zip is done!\n",
      "\n"
     ]
    }
   ],
   "source": [
    "destination = 'data' ### YOUR_DOWNLOAD_PATH\n",
    "os.makedirs(destination, exist_ok=True)\n",
    "\n",
    "filename_list = []\n",
    "\n",
    "# ### Use single process\n",
    "# for file_id in file_id_list:\n",
    "#     filename = download_file_from_google_drive(id_=file_id, destination=destination)\n",
    "#     print('{} is done!'.format(filename))\n",
    "#     filename_list.append(filename)\n",
    "\n",
    "### If you want to download more faster\n",
    "download_func = partial(download_file_from_google_drive, destination=destination)\n",
    "with Pool(4) as pool:\n",
    "    for i, filename in tqdm(enumerate(pool.imap_unordered(download_func, file_id_list)), total=len(file_id_list)):\n",
    "        print('{} is done!'.format(filename))\n",
    "        filename_list.append(filename)"
   ]
  },
  {
   "cell_type": "code",
   "execution_count": 5,
   "metadata": {},
   "outputs": [
    {
     "data": {
      "application/vnd.jupyter.widget-view+json": {
       "model_id": "dcee6a506e4f4c208e1ea601f63afd48",
       "version_major": 2,
       "version_minor": 0
      },
      "text/plain": [
       "HBox(children=(FloatProgress(value=0.0, max=2.0), HTML(value='')))"
      ]
     },
     "metadata": {},
     "output_type": "display_data"
    },
    {
     "name": "stdout",
     "output_type": "stream",
     "text": [
      "data/test is done!\n",
      "data/train is done!\n",
      "\n"
     ]
    }
   ],
   "source": [
    "zip_filename_list = [filename for filename in filename_list if filename.endswith('.zip')]\n",
    "    \n",
    "for zip_filename in tqdm(zip_filename_list):\n",
    "    with zipfile.ZipFile(zip_filename) as target_zip:\n",
    "        dest_path = pth.splitext(zip_filename)[0]\n",
    "        os.makedirs(dest_path, exist_ok=True)\n",
    "        target_zip.extractall(dest_path)\n",
    "        print('{} is done!'.format(dest_path))"
   ]
  },
  {
   "cell_type": "code",
   "execution_count": null,
   "metadata": {},
   "outputs": [],
   "source": []
  }
 ],
 "metadata": {
  "kernelspec": {
   "display_name": "Python 3",
   "language": "python",
   "name": "python3"
  },
  "language_info": {
   "codemirror_mode": {
    "name": "ipython",
    "version": 3
   },
   "file_extension": ".py",
   "mimetype": "text/x-python",
   "name": "python",
   "nbconvert_exporter": "python",
   "pygments_lexer": "ipython3",
   "version": "3.7.6"
  }
 },
 "nbformat": 4,
 "nbformat_minor": 4
}
