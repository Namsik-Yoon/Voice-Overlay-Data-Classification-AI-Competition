{
 "cells": [
  {
   "cell_type": "code",
   "execution_count": 1,
   "metadata": {},
   "outputs": [],
   "source": [
    "import os\n",
    "import librosa\n",
    "import librosa.display\n",
    "import IPython.display\n",
    "import matplotlib.pyplot as plt\n",
    "import pandas as pd\n",
    "import time\n",
    "import numpy as np\n",
    "%matplotlib inline"
   ]
  },
  {
   "cell_type": "code",
   "execution_count": 2,
   "metadata": {},
   "outputs": [],
   "source": [
    "import torch\n",
    "import torch.nn as nn\n",
    "import torch.optim as optim\n",
    "\n",
    "from torch.nn import functional as F\n",
    "from torch.utils.data import Dataset,DataLoader"
   ]
  },
  {
   "cell_type": "code",
   "execution_count": 3,
   "metadata": {},
   "outputs": [],
   "source": [
    "class MyDataset(Dataset):\n",
    "    def __init__(self,train=True):\n",
    "        self.train = train\n",
    "        self.root = 'aug_data/'\n",
    "        if train:\n",
    "            self.wave_list = os.listdir(self.root+'train/')\n",
    "            self.train_targets = pd.read_csv('data/train_answer.csv').drop(['id'],axis=1).values\n",
    "        else:\n",
    "            self.wave_list = os.listdir(self.root+'test/')\n",
    "\n",
    "    def __getitem__(self,index):\n",
    "        if self.train:\n",
    "            x_root = self.wave_list[index]\n",
    "            target = self.train_targets[int(x_root.split('_')[0])]\n",
    "\n",
    "            x = torch.load(self.root+'train/'+x_root)\n",
    "            y = torch.tensor(target,dtype=torch.float32)\n",
    "            y[y>0.1]=1.\n",
    "            return x,y\n",
    "        else:\n",
    "            x_root = self.wave_list[index]\n",
    "            x = torch.load(self.root+'test/'+x_root)\n",
    "            return x\n",
    "            \n",
    "    def __len__(self):\n",
    "        return len(self.wave_list)"
   ]
  },
  {
   "cell_type": "code",
   "execution_count": 4,
   "metadata": {},
   "outputs": [],
   "source": [
    "dataset = MyDataset()\n",
    "\n",
    "train_ratio = 0.8\n",
    "train_size = int(len(dataset)*train_ratio)\n",
    "val_size = len(dataset)-train_size\n",
    "\n",
    "train_dataset,val_dataset = torch.utils.data.random_split(dataset,[train_size,val_size])\n",
    "\n",
    "batch_size = 2**8\n",
    "train_loader = DataLoader(train_dataset,batch_size=batch_size,shuffle=True)\n",
    "val_loader = DataLoader(dataset=train_dataset, batch_size=100)"
   ]
  },
  {
   "cell_type": "code",
   "execution_count": 5,
   "metadata": {},
   "outputs": [],
   "source": [
    "def conv3x3(in_channels, out_channels, stride=1):\n",
    "    return nn.Conv2d(in_channels, out_channels, kernel_size=3, \n",
    "                     stride=stride, padding=1, bias=False)\n",
    "\n",
    "# Residual block\n",
    "class ResidualBlock(nn.Module):\n",
    "    def __init__(self, in_channels, out_channels, stride=1, downsample=None):\n",
    "        super(ResidualBlock, self).__init__()\n",
    "        self.conv1 = conv3x3(in_channels, out_channels, stride)\n",
    "        self.bn1 = nn.BatchNorm2d(out_channels)\n",
    "        self.elu = nn.ELU(inplace=True)\n",
    "        self.conv2 = conv3x3(out_channels, out_channels)\n",
    "        self.bn2 = nn.BatchNorm2d(out_channels)\n",
    "        self.downsample = downsample\n",
    "        \n",
    "    def forward(self, x):\n",
    "        residual = x\n",
    "        out = self.conv1(x)\n",
    "        out = self.bn1(out)\n",
    "        out = self.elu(out)\n",
    "        out = self.conv2(out)\n",
    "        out = self.bn2(out)\n",
    "        if self.downsample:\n",
    "            residual = self.downsample(x)\n",
    "        out += residual\n",
    "        out = self.elu(out)\n",
    "        return out\n",
    "\n",
    "# ResNet\n",
    "class ResNet(nn.Module):\n",
    "    def __init__(self, block, layers, num_classes=10):\n",
    "        super(ResNet, self).__init__()\n",
    "        self.in_channels = 16\n",
    "        self.conv = conv3x3(1, 16)\n",
    "        self.bn = nn.BatchNorm2d(16)\n",
    "        self.elu = nn.ReLU(inplace=True)\n",
    "        self.layer1 = self.make_layer(block, 16, layers[0])\n",
    "        self.layer2 = self.make_layer(block, 32, layers[1], 2)\n",
    "        self.layer3 = self.make_layer(block, 64, layers[2], 2)\n",
    "        self.avg_pool = nn.AvgPool2d(8)\n",
    "        self.fc = nn.Linear(44800, 30)\n",
    "        \n",
    "    def make_layer(self, block, out_channels, blocks, stride=1):\n",
    "        downsample = None\n",
    "        if (stride != 1) or (self.in_channels != out_channels):\n",
    "            downsample = nn.Sequential(\n",
    "                conv3x3(self.in_channels, out_channels, stride=stride),\n",
    "                nn.BatchNorm2d(out_channels))\n",
    "        layers = []\n",
    "        layers.append(block(self.in_channels, out_channels, stride, downsample))\n",
    "        self.in_channels = out_channels\n",
    "        for i in range(1, blocks):\n",
    "            layers.append(block(out_channels, out_channels))\n",
    "        return nn.Sequential(*layers)\n",
    "    \n",
    "    def forward(self, x):\n",
    "        x = x.view(x.size(0),1,80,138)\n",
    "        out = self.conv(x)\n",
    "        out = self.bn(out)\n",
    "        out = self.elu(out)\n",
    "        out = self.layer1(out)\n",
    "        out = self.layer2(out)\n",
    "        out = self.layer3(out)\n",
    "        out = out.view(out.size(0), -1)\n",
    "        out = F.softmax(self.fc(out))\n",
    "        return out"
   ]
  },
  {
   "cell_type": "code",
   "execution_count": 6,
   "metadata": {},
   "outputs": [
    {
     "name": "stdout",
     "output_type": "stream",
     "text": [
      "# of parameters =  1636046\n"
     ]
    }
   ],
   "source": [
    "torch.cuda.init()\n",
    "torch.cuda.is_initialized()\n",
    "torch.cuda.empty_cache()\n",
    "\n",
    "cuda_use = True\n",
    "resnet = ResNet(ResidualBlock, [3, 3, 3])\n",
    "print('# of parameters = ',sum(p.numel() for p in resnet.parameters()))\n",
    "\n",
    "if cuda_use and torch.cuda.is_available():\n",
    "    resnet.cuda()\n",
    "\n",
    "    criterion = nn.KLDivLoss(reduction='batchmean')\n",
    "optimizer = optim.Adam(params=resnet.parameters(),lr=1e-4)"
   ]
  },
  {
   "cell_type": "code",
   "execution_count": 7,
   "metadata": {},
   "outputs": [
    {
     "data": {
      "text/plain": [
       "400000"
      ]
     },
     "execution_count": 7,
     "metadata": {},
     "output_type": "execute_result"
    }
   ],
   "source": [
    "len(dataset)"
   ]
  },
  {
   "cell_type": "code",
   "execution_count": null,
   "metadata": {
    "scrolled": false
   },
   "outputs": [
    {
     "name": "stderr",
     "output_type": "stream",
     "text": [
      "/home/tactics/anaconda3/lib/python3.7/site-packages/ipykernel_launcher.py:65: UserWarning: Implicit dimension choice for softmax has been deprecated. Change the call to include dim=X as an argument.\n"
     ]
    },
    {
     "name": "stdout",
     "output_type": "stream",
     "text": [
      "1 time = 450.49830961227417 seconds\n",
      "1 epoch val loss = 10.98992919921875\n",
      "1 epoch train loss = 11.689608573913574\n",
      "--------------------------------------------------\n",
      "2 time = 451.81155157089233 seconds\n",
      "2 epoch val loss = 10.902934074401855\n",
      "2 epoch train loss = 10.751411437988281\n",
      "--------------------------------------------------\n",
      "3 time = 451.85200905799866 seconds\n",
      "3 epoch val loss = 10.453518867492676\n",
      "3 epoch train loss = 10.346803665161133\n",
      "--------------------------------------------------\n",
      "4 time = 451.8627653121948 seconds\n",
      "4 epoch val loss = 9.885323524475098\n",
      "4 epoch train loss = 10.056208610534668\n",
      "--------------------------------------------------\n",
      "5 time = 451.8719573020935 seconds\n",
      "5 epoch val loss = 10.271794319152832\n",
      "5 epoch train loss = 9.818068504333496\n",
      "--------------------------------------------------\n",
      "6 time = 451.7564227581024 seconds\n",
      "6 epoch val loss = 9.635022163391113\n",
      "6 epoch train loss = 9.617191314697266\n",
      "--------------------------------------------------\n"
     ]
    }
   ],
   "source": [
    "plot_list = {'train':[],'val':[]}\n",
    "time_list = [time.time()]\n",
    "\n",
    "for epoch in range(100):\n",
    "    if epoch>30:\n",
    "        optimizer = optim.Adam(params=resnet.parameters(),lr=1e-4/2)\n",
    "    elif epoch>60:\n",
    "        optimizer = optim.Adam(params=resnet.parameters(),lr=1e-4/4)\n",
    "    resnet.train()\n",
    "    train_losses = []\n",
    "    for i, data in enumerate(train_loader):\n",
    "        # get the inputs; data is a list of [inputs, labels]\n",
    "        inputs, targets = data\n",
    "        inputs, targets = inputs.cuda(),targets.cuda()\n",
    "        # zero the parameter gradients\n",
    "        optimizer.zero_grad()\n",
    "        # forward + backward + optimize\n",
    "        outputs = resnet(inputs)\n",
    "        train_loss = criterion(outputs.log(), targets)\n",
    "        train_loss.backward()\n",
    "        optimizer.step()\n",
    "        train_losses.append(train_loss.detach())\n",
    "        del data\n",
    "        del inputs\n",
    "        del targets\n",
    "        \n",
    "    resnet.eval()\n",
    "    val_losses = []\n",
    "    for data in val_loader:\n",
    "        inputs, targets = data\n",
    "        inputs, targets = inputs.cuda(),targets.cuda()\n",
    "\n",
    "        outputs = resnet(inputs)\n",
    "        val_loss = criterion(outputs.log(), targets)\n",
    "        val_losses.append(val_loss.detach())\n",
    "        del data\n",
    "        del inputs\n",
    "        del targets\n",
    "        \n",
    "    time_list.append(time.time())\n",
    "    print(f\"{epoch+1} time = {time_list[-1]-time_list[-2]} seconds\")\n",
    "    print(f\"{epoch+1} epoch val loss = {sum(val_losses)/len(val_losses)}\")\n",
    "    print(f\"{epoch+1} epoch train loss = {sum(train_losses)/len(train_losses)}\")\n",
    "    print('--------------------------------------------------')\n",
    "    plot_list['train'].append(sum(train_losses)/len(train_losses))\n",
    "    plot_list['val'].append(sum(val_losses)/len(val_losses))\n",
    "    \n",
    "print('Finished Training')"
   ]
  },
  {
   "cell_type": "code",
   "execution_count": null,
   "metadata": {},
   "outputs": [],
   "source": []
  }
 ],
 "metadata": {
  "kernelspec": {
   "display_name": "Python 3",
   "language": "python",
   "name": "python3"
  },
  "language_info": {
   "codemirror_mode": {
    "name": "ipython",
    "version": 3
   },
   "file_extension": ".py",
   "mimetype": "text/x-python",
   "name": "python",
   "nbconvert_exporter": "python",
   "pygments_lexer": "ipython3",
   "version": "3.7.6"
  }
 },
 "nbformat": 4,
 "nbformat_minor": 4
}
